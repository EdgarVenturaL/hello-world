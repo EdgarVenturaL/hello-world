{
 "cells": [
  {
   "cell_type": "markdown",
   "metadata": {},
   "source": [
    "# Edgar Omar Ventura Lopez \n",
    "\n",
    "743791\n",
    "\n",
    "ing.civil"
   ]
  },
  {
   "cell_type": "markdown",
   "metadata": {},
   "source": [
    "# TAREA"
   ]
  },
  {
   "cell_type": "markdown",
   "metadata": {},
   "source": [
    "## Integración Montecarlo"
   ]
  },
  {
   "cell_type": "markdown",
   "metadata": {},
   "source": [
    "1. Realizar las siguientes integrales. Poner los resultados en una tabla cuyas filas correspondan a la cantidad de términos utilizados en la aproximación (usar 10, 100, 1000, 10000 y 100000 términos) y cuyas columnas correspondan a las funciones.\n",
    "    + $\\int_{1}^{3} e^{x}\\log(x)\\text{d}x$.\n",
    "    + $\\int_1^3 \\sin(x)\\ln(x) \\text{d}x$"
   ]
  },
  {
   "cell_type": "code",
   "execution_count": 1,
   "metadata": {},
   "outputs": [],
   "source": [
    "import numpy as np\n",
    "\n",
    "def f1(x):\n",
    "    return np.exp(x) * np.log(x)\n",
    "\n",
    "def f2(x):\n",
    "    return np.sin(x) * np.log(x)\n"
   ]
  },
  {
   "cell_type": "code",
   "execution_count": 2,
   "metadata": {},
   "outputs": [],
   "source": [
    "def monte_carlo_integration(f, a, b, n):\n",
    "    x = np.random.uniform(a, b, n)\n",
    "    y = f(x)\n",
    "    integral = (b - a) * np.mean(y)\n",
    "    return integral\n"
   ]
  },
  {
   "cell_type": "code",
   "execution_count": 3,
   "metadata": {},
   "outputs": [],
   "source": [
    "a = 1\n",
    "b = 3\n",
    "\n",
    "n_values = [10, 100, 1000, 10000, 100000]\n",
    "\n",
    "table = []\n",
    "\n",
    "for n in n_values:\n",
    "    row = []\n",
    "    for f in [f1, f2]:\n",
    "        integral = monte_carlo_integration(f, a, b, n)\n",
    "        row.append(integral)\n",
    "    table.append(row)\n"
   ]
  },
  {
   "cell_type": "code",
   "execution_count": 4,
   "metadata": {},
   "outputs": [
    {
     "name": "stdout",
     "output_type": "stream",
     "text": [
      "Number of points  |  f1(x) = e^x * ln(x)  |  f2(x) = sin(x) * ln(x)\n",
      "-----------------------------------------------------------------\n",
      "10          |  16.4942181141  |  0.7850311527\n",
      "100         |  12.1531343432  |  0.8583838996\n",
      "1000        |  14.4482424499  |  0.8726070081\n",
      "10000       |  13.9426971208  |  0.8713809223\n",
      "100000      |  14.0020742105  |  0.8687928543\n"
     ]
    }
   ],
   "source": [
    "headers = ['f1(x) = e^x * ln(x)', 'f2(x) = sin(x) * ln(x)']\n",
    "\n",
    "print('Number of points  |  ', end='')\n",
    "print('  |  '.join(headers))\n",
    "print('-' * 65)\n",
    "\n",
    "for i, n in enumerate(n_values):\n",
    "    row = [f'{n:<10}']\n",
    "    for j in range(len(headers)):\n",
    "        row.append(f'{table[i][j]:.10f}')\n",
    "    print('  |  '.join(row))\n"
   ]
  },
  {
   "cell_type": "code",
   "execution_count": null,
   "metadata": {},
   "outputs": [],
   "source": []
  },
  {
   "cell_type": "markdown",
   "metadata": {},
   "source": [
    "2. Aproximar el área de la región descrita por\n",
    "\n",
    "$$x^2+2y^2\\leq-2x+8y-7$$\n",
    "\n",
    "Poner los resultados en una tabla cuyas filas correspondan a la cantidad de términos utilizados en la aproximación (usar 10, 100, 1000, 10000 y 100000 términos) y en las columnas el valor de aproximación y el error relativo.\n",
    "\n",
    "Definir unos límites adecuados $a_1$, $b_1$, $a_2$ y $b_2$, para la región $R=\\left[a_1,b_1\\right]\\times\\left[a_2,b_2\\right]$"
   ]
  },
  {
   "cell_type": "code",
   "execution_count": 8,
   "metadata": {},
   "outputs": [],
   "source": [
    "def in_region(x, y):\n",
    "    return x**2 + 2*y**2 <= -2*x + 8*y - 7\n"
   ]
  },
  {
   "cell_type": "code",
   "execution_count": 9,
   "metadata": {},
   "outputs": [],
   "source": [
    "def monte_carlo_area(a1, b1, a2, b2, n):\n",
    "    count = 0\n",
    "    for i in range(n):\n",
    "        x = np.random.uniform(a1, b1)\n",
    "        y = np.random.uniform(a2, b2)\n",
    "        if in_region(x, y):\n",
    "            count += 1\n",
    "    area = (b1 - a1) * (b2 - a2) * (count / n)\n",
    "    return area\n"
   ]
  },
  {
   "cell_type": "code",
   "execution_count": 18,
   "metadata": {},
   "outputs": [],
   "source": [
    "from sympy import symbols, solve\n",
    "\n",
    "x, y = symbols('x y')\n",
    "expr = x**2 + 2*y**2 + 2*x - 8*y + 7\n",
    "sol = solve(expr, y)\n",
    "import numpy as np\n",
    "from sympy import lambdify\n",
    "\n",
    "expr = x**2 + 2*y**2 + 2*x - 8*y + 7\n",
    "sol = solve(expr, y)\n",
    "exact_area = lambdify(x, (sol[1] - sol[0]) / 2, 'numpy')(0)\n",
    "\n"
   ]
  },
  {
   "cell_type": "code",
   "execution_count": 19,
   "metadata": {},
   "outputs": [
    {
     "name": "stdout",
     "output_type": "stream",
     "text": [
      "Número de puntos | Aproximación | Error relativo\n",
      "10               0.00000000    1.00000000   \n",
      "100              6.00000000    0.89051095   \n",
      "1000             3.40000000    0.93795620   \n",
      "10000            4.46000000    0.91861314   \n",
      "100000           4.39800000    0.91974453   \n"
     ]
    }
   ],
   "source": [
    "import random\n",
    "\n",
    "# Definir límites de la región\n",
    "a1, b1, a2, b2 = -5, 5, -5, 5\n",
    "\n",
    "# Definir función que describe la región\n",
    "def f(x, y):\n",
    "    return (x**2 + 2*y**2 <= -2*x + 8*y - 7)\n",
    "\n",
    "# Definir función para aproximar el área de la región\n",
    "def aproximar_area(num_puntos):\n",
    "    dentro_region = 0\n",
    "    for i in range(num_puntos):\n",
    "        x = random.uniform(a1, b1)\n",
    "        y = random.uniform(a2, b2)\n",
    "        dentro_region += f(x, y)\n",
    "    area_rectangulo = (b1 - a1) * (b2 - a2)\n",
    "    area_aproximada = area_rectangulo * dentro_region / num_puntos\n",
    "    error_relativo = abs(area_aproximada - 54.8) / 54.8\n",
    "    return (area_aproximada, error_relativo)\n",
    "\n",
    "# Generar tabla de aproximaciones y errores relativos\n",
    "tabla = []\n",
    "for num_puntos in [10, 100, 1000, 10000, 100000]:\n",
    "    area, error = aproximar_area(num_puntos)\n",
    "    tabla.append((num_puntos, area, error))\n",
    "\n",
    "# Imprimir tabla\n",
    "print(\"Número de puntos | Aproximación | Error relativo\")\n",
    "for fila in tabla:\n",
    "    print(f\"{fila[0]:<16} {fila[1]:<13.8f} {fila[2]:<13.8f}\")\n"
   ]
  },
  {
   "cell_type": "code",
   "execution_count": null,
   "metadata": {},
   "outputs": [],
   "source": []
  },
  {
   "cell_type": "markdown",
   "metadata": {},
   "source": [
    "3. Describe 3 casos de uso de integración Montecarlo en tu ingeniería."
   ]
  },
  {
   "cell_type": "markdown",
   "metadata": {},
   "source": [
    "1- Análisis de incertidumbre en el diseño de estructuras: La integración Montecarlo se puede utilizar para analizar la incertidumbre en el diseño de estructuras, donde las propiedades de los materiales, las cargas aplicadas y las dimensiones de los elementos estructurales pueden tener cierto grado de incertidumbre. Los resultados de la simulación Montecarlo se pueden utilizar para obtener una distribución de probabilidad de las respuestas de la estructura, lo que permite a los ingenieros civiles tomar decisiones informadas sobre el diseño."
   ]
  },
  {
   "cell_type": "markdown",
   "metadata": {},
   "source": [
    "2- Estimación de la capacidad de carga de suelos: La integración Montecarlo se puede utilizar para estimar la capacidad de carga de los suelos, que es una propiedad importante en la construcción de cimentaciones. El método Montecarlo se utiliza para simular diferentes condiciones del suelo, como su densidad, cohesión y ángulo de fricción, y para calcular la capacidad de carga de la cimentación. Los resultados se pueden utilizar para tomar decisiones informadas sobre la selección de la cimentación y la ubicación de los pilotes."
   ]
  },
  {
   "cell_type": "markdown",
   "metadata": {},
   "source": [
    "3- Evaluación de la seguridad estructural de presas: La integración Montecarlo se puede utilizar para evaluar la seguridad estructural de presas. Las simulaciones Montecarlo se pueden utilizar para modelar diferentes escenarios de falla, como la erosión de la base, el colapso del vertedero o la rotura de la presa, y para estimar la probabilidad de que ocurran estos eventos. Los resultados de la simulación se pueden utilizar para evaluar la seguridad estructural de la presa y para tomar medidas preventivas si es necesario."
   ]
  },
  {
   "cell_type": "code",
   "execution_count": null,
   "metadata": {},
   "outputs": [],
   "source": []
  }
 ],
 "metadata": {
  "kernelspec": {
   "display_name": "Python 3 (ipykernel)",
   "language": "python",
   "name": "python3"
  },
  "language_info": {
   "codemirror_mode": {
    "name": "ipython",
    "version": 3
   },
   "file_extension": ".py",
   "mimetype": "text/x-python",
   "name": "python",
   "nbconvert_exporter": "python",
   "pygments_lexer": "ipython3",
   "version": "3.9.13"
  }
 },
 "nbformat": 4,
 "nbformat_minor": 2
}
